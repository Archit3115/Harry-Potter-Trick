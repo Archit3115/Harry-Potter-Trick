{
 "cells": [
  {
   "cell_type": "code",
   "execution_count": 1,
   "metadata": {},
   "outputs": [],
   "source": [
    "#Harry Potter Invisible Cloke Project\n",
    "#Author:Archit Srivastava; Date:23/06/2020\n",
    "\n",
    "\n",
    "# STEP 1: Importing libraries and defining the output video\n",
    "    ##----->The required libraies are imported.\n",
    "    ##----->We are writing the videos in fourcc and saving the output video.\n",
    "\n",
    "#Importing needed libraries\n",
    "import numpy as np\n",
    "import time\n",
    "import cv2\n",
    "\n",
    "#Output Video\n",
    "fourcc = cv2.VideoWriter_fourcc(*'XVID')\n",
    "out = cv2.VideoWriter('output.avi',fourcc,20.0,(640,480))\n"
   ]
  },
  {
   "cell_type": "code",
   "execution_count": 2,
   "metadata": {},
   "outputs": [],
   "source": [
    "# STEP 2: Recording and catching the each frame of video\n",
    "    ##----->We are replacing the red coloured pixels in the background, so we store each frame of background.\n",
    "    ##----->cap.read() is used to capture the current frame and stored in the variable 'background'.\n",
    "    ##----->ret is used to store the boolean value while reading the correct frame value.\n",
    "    ##----->The background is saved in several frames using for loop to reduce noise.\n",
    "\n",
    "#For reading from the webcam\n",
    "cap = cv2.VideoCapture(0)\n",
    "\n",
    "#Allowing the system 3 sec to sleep before the webcam starts\n",
    "time.sleep(3)\n",
    "count = 0\n",
    "background = 0\n",
    "\n",
    "#capturing the background in range of 60\n",
    "for i in range(60):\n",
    "    ret,background = cap.read()\n",
    "background = np.flip(background,axis=1)\n"
   ]
  },
  {
   "cell_type": "code",
   "execution_count": null,
   "metadata": {},
   "outputs": [],
   "source": [
    "#Till the camera is openn read every frame\n",
    "while(cap.isOpened()):\n",
    "    ret,img = cap.read()\n",
    "    if not ret:\n",
    "        break\n",
    "    count+=1\n",
    "    img = np.flip(img,axis=1)\n",
    "    #BGR to HSV\n",
    "    hsv = cv2.cvtColor(img, cv2.COLOR_BGR2HSV)\n",
    "\n",
    "    #Generation of mask to detect red color\n",
    "    lower_red = np.array([0,120,50])\n",
    "    upper_red = np.array([10,255,255])\n",
    "    mask1 = cv2.inRange(hsv,lower_red,upper_red)\n",
    "\n",
    "    lower_red = np.array([170,120,70])\n",
    "    upper_red = np.array([180,255,255])\n",
    "    mask2 = cv2.inRange(hsv,lower_red,upper_red)\n",
    "\n",
    "    mask1 = mask1+mask2\n",
    "\n",
    "    #Open and dilate the masked image\n",
    "    mask1 = cv2.morphologyEx(mask1, cv2.MORPH_OPEN, np.ones((3,3),np.uint8))\n",
    "    mask1 = cv2.morphologyEx(mask1, cv2.MORPH_DILATE, np.ones((3,3),np.uint8))\n",
    "\n",
    "    #Creating an inverted mask to segment out the red color from the frame\n",
    "    mask2 = cv2.bitwise_not(mask1)\n",
    "\n",
    "    #Segmenting the red color part out of the frame using bitwise and inverted mask\n",
    "    res1 = cv2.bitwise_and(img, img, mask = mask2)\n",
    "\n",
    "    #Creating static background image pixels only for the masked region\n",
    "    res2 = cv2.bitwise_and(background, background, mask = mask1)\n",
    "    \n",
    "    \n",
    "    #Final Output\n",
    "    finalOutput = cv2.addWeighted(res1,1,res2,1,0)\n",
    "    out.write(finalOutput)\n",
    "    cv2.imshow(\"magic\",finalOutput)\n",
    "    cv2.waitKey(1)\n",
    "\n",
    "cap.release()\n",
    "out.release()\n",
    "cv2.destroyAllWindows\n",
    "    \n"
   ]
  },
  {
   "cell_type": "code",
   "execution_count": null,
   "metadata": {},
   "outputs": [],
   "source": []
  },
  {
   "cell_type": "code",
   "execution_count": null,
   "metadata": {},
   "outputs": [],
   "source": []
  }
 ],
 "metadata": {
  "kernelspec": {
   "display_name": "Python 3",
   "language": "python",
   "name": "python3"
  },
  "language_info": {
   "codemirror_mode": {
    "name": "ipython",
    "version": 3
   },
   "file_extension": ".py",
   "mimetype": "text/x-python",
   "name": "python",
   "nbconvert_exporter": "python",
   "pygments_lexer": "ipython3",
   "version": "3.7.6"
  }
 },
 "nbformat": 4,
 "nbformat_minor": 4
}
